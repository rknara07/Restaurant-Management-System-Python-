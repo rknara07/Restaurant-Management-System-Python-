{
  "cells": [
    {
      "cell_type": "markdown",
      "metadata": {
        "id": "view-in-github",
        "colab_type": "text"
      },
      "source": [
        "<a href=\"https://colab.research.google.com/github/rknara07/Restaurant-Management-System-Python-/blob/main/Untitled0.ipynb\" target=\"_parent\"><img src=\"https://colab.research.google.com/assets/colab-badge.svg\" alt=\"Open In Colab\"/></a>"
      ]
    },
    {
      "cell_type": "markdown",
      "source": [
        "# Linear Algebric Operation"
      ],
      "metadata": {
        "id": "zn0sNVn-_-Dv"
      }
    },
    {
      "cell_type": "markdown",
      "source": [
        "1> determint\n",
        "\n",
        "2> matrix multiplication \n",
        "\n",
        "3> addition of two array\n",
        "\n",
        "4> inverse of matrix\n",
        "\n",
        "5> eigen value\n",
        "\n",
        "6> eigen vector"
      ],
      "metadata": {
        "id": "nA6Bfq3__-NS"
      }
    },
    {
      "cell_type": "code",
      "execution_count": 7,
      "metadata": {
        "id": "Pw8ZtZa54SAG"
      },
      "outputs": [],
      "source": [
        "import numpy as np"
      ]
    },
    {
      "cell_type": "code",
      "execution_count": 13,
      "metadata": {
        "id": "30ktsz9M4Y7M",
        "colab": {
          "base_uri": "https://localhost:8080/"
        },
        "outputId": "ee0c78d1-e454-46e6-c67c-2bb5dd094fa3"
      },
      "outputs": [
        {
          "output_type": "execute_result",
          "data": {
            "text/plain": [
              "array([[0, 3, 7],\n",
              "       [5, 3, 1],\n",
              "       [8, 3, 7]])"
            ]
          },
          "metadata": {},
          "execution_count": 13
        }
      ],
      "source": [
        "arr1=np.random.randint(0,10,9).reshape(3,3)\n",
        "arr1"
      ]
    },
    {
      "cell_type": "code",
      "execution_count": 14,
      "metadata": {
        "id": "gKa9H8o14dN3",
        "colab": {
          "base_uri": "https://localhost:8080/"
        },
        "outputId": "3f758f22-a6f0-4620-bc17-c40de5f3c0c5"
      },
      "outputs": [
        {
          "output_type": "execute_result",
          "data": {
            "text/plain": [
              "array([[7, 1, 4],\n",
              "       [9, 9, 9],\n",
              "       [0, 3, 7]])"
            ]
          },
          "metadata": {},
          "execution_count": 14
        }
      ],
      "source": [
        "arr2=np.random.randint(0,10,9).reshape(3,3)\n",
        "arr2"
      ]
    },
    {
      "cell_type": "code",
      "source": [
        "#addition of array"
      ],
      "metadata": {
        "id": "VIUxgAQvCqIl"
      },
      "execution_count": 15,
      "outputs": []
    },
    {
      "cell_type": "code",
      "source": [
        "arr1+arr2"
      ],
      "metadata": {
        "colab": {
          "base_uri": "https://localhost:8080/"
        },
        "id": "_bM1reYpCtlx",
        "outputId": "6fe7832c-9015-4b5c-e5b2-02bd0b21aeed"
      },
      "execution_count": 16,
      "outputs": [
        {
          "output_type": "execute_result",
          "data": {
            "text/plain": [
              "array([[ 7,  4, 11],\n",
              "       [14, 12, 10],\n",
              "       [ 8,  6, 14]])"
            ]
          },
          "metadata": {},
          "execution_count": 16
        }
      ]
    },
    {
      "cell_type": "code",
      "source": [
        "np.add(arr1,arr2)"
      ],
      "metadata": {
        "colab": {
          "base_uri": "https://localhost:8080/"
        },
        "id": "mqnrES1fCu4-",
        "outputId": "fe78a95a-cf49-47f4-8e84-94a8fea05c3e"
      },
      "execution_count": 18,
      "outputs": [
        {
          "output_type": "execute_result",
          "data": {
            "text/plain": [
              "array([[ 7,  4, 11],\n",
              "       [14, 12, 10],\n",
              "       [ 8,  6, 14]])"
            ]
          },
          "metadata": {},
          "execution_count": 18
        }
      ]
    },
    {
      "cell_type": "code",
      "source": [
        "#dot product"
      ],
      "metadata": {
        "id": "KQuSl45PCzZQ"
      },
      "execution_count": 19,
      "outputs": []
    },
    {
      "cell_type": "code",
      "source": [
        "arr1.shape\n",
        "arr2.shape"
      ],
      "metadata": {
        "colab": {
          "base_uri": "https://localhost:8080/"
        },
        "id": "8KCVru8dC6H6",
        "outputId": "52cc28d4-74e6-4fd4-e56a-724f4627f853"
      },
      "execution_count": 20,
      "outputs": [
        {
          "output_type": "execute_result",
          "data": {
            "text/plain": [
              "(3, 3)"
            ]
          },
          "metadata": {},
          "execution_count": 20
        }
      ]
    },
    {
      "cell_type": "code",
      "source": [
        "np.dot(arr1,arr2)"
      ],
      "metadata": {
        "colab": {
          "base_uri": "https://localhost:8080/"
        },
        "id": "5Z48emKwDFgB",
        "outputId": "d815bb2a-159c-470e-f138-1714a5fa8a8d"
      },
      "execution_count": 21,
      "outputs": [
        {
          "output_type": "execute_result",
          "data": {
            "text/plain": [
              "array([[ 27,  48,  76],\n",
              "       [ 62,  35,  54],\n",
              "       [ 83,  56, 108]])"
            ]
          },
          "metadata": {},
          "execution_count": 21
        }
      ]
    },
    {
      "cell_type": "code",
      "source": [
        "#determinant"
      ],
      "metadata": {
        "id": "bLThYBfsDKVu"
      },
      "execution_count": 23,
      "outputs": []
    },
    {
      "cell_type": "code",
      "source": [
        "np.linalg.det(arr1)"
      ],
      "metadata": {
        "colab": {
          "base_uri": "https://localhost:8080/"
        },
        "id": "Nb2zRkw3DnyT",
        "outputId": "45198b29-5f96-44ed-ee1b-887c80866f68"
      },
      "execution_count": 24,
      "outputs": [
        {
          "output_type": "execute_result",
          "data": {
            "text/plain": [
              "-143.9999999999999"
            ]
          },
          "metadata": {},
          "execution_count": 24
        }
      ]
    },
    {
      "cell_type": "code",
      "source": [
        "np.linalg.det(arr2)"
      ],
      "metadata": {
        "colab": {
          "base_uri": "https://localhost:8080/"
        },
        "id": "bvz-6sboDz2R",
        "outputId": "ea471432-aac1-4a86-b897-983b1ec0ad5f"
      },
      "execution_count": 25,
      "outputs": [
        {
          "output_type": "execute_result",
          "data": {
            "text/plain": [
              "297.00000000000006"
            ]
          },
          "metadata": {},
          "execution_count": 25
        }
      ]
    },
    {
      "cell_type": "code",
      "source": [
        "#inverse of a matrix"
      ],
      "metadata": {
        "id": "s-8jIXAuD5xY"
      },
      "execution_count": 26,
      "outputs": []
    },
    {
      "cell_type": "code",
      "source": [
        "np.linalg.inv(arr1)"
      ],
      "metadata": {
        "colab": {
          "base_uri": "https://localhost:8080/"
        },
        "id": "nuSvuHpMEXAn",
        "outputId": "bc7da709-967a-42a8-849d-be4728c2b0d4"
      },
      "execution_count": 27,
      "outputs": [
        {
          "output_type": "execute_result",
          "data": {
            "text/plain": [
              "array([[-0.125     ,  0.        ,  0.125     ],\n",
              "       [ 0.1875    ,  0.38888889, -0.24305556],\n",
              "       [ 0.0625    , -0.16666667,  0.10416667]])"
            ]
          },
          "metadata": {},
          "execution_count": 27
        }
      ]
    },
    {
      "cell_type": "code",
      "source": [
        "np.linalg.inv(arr2)"
      ],
      "metadata": {
        "colab": {
          "base_uri": "https://localhost:8080/"
        },
        "id": "Hq-C4k_bEZUr",
        "outputId": "6d912ba3-2a02-47c3-aaec-6d52bf0df9bc"
      },
      "execution_count": 28,
      "outputs": [
        {
          "output_type": "execute_result",
          "data": {
            "text/plain": [
              "array([[ 0.12121212,  0.01683502, -0.09090909],\n",
              "       [-0.21212121,  0.16498316, -0.09090909],\n",
              "       [ 0.09090909, -0.07070707,  0.18181818]])"
            ]
          },
          "metadata": {},
          "execution_count": 28
        }
      ]
    },
    {
      "cell_type": "code",
      "source": [
        "#eigen Value , eigen vector"
      ],
      "metadata": {
        "id": "cc8W2zd3Eb4y"
      },
      "execution_count": 29,
      "outputs": []
    },
    {
      "cell_type": "code",
      "source": [
        "np.linalg.eig(arr1)"
      ],
      "metadata": {
        "colab": {
          "base_uri": "https://localhost:8080/"
        },
        "id": "Lqo_kO_pEhwH",
        "outputId": "3e8b69fa-3d19-4372-803e-fc7c4e410f7c"
      },
      "execution_count": 30,
      "outputs": [
        {
          "output_type": "execute_result",
          "data": {
            "text/plain": [
              "(array([13.1904204 , -5.2642304 ,  2.07381001]),\n",
              " array([[-0.49992851, -0.79961988,  0.08516438],\n",
              "        [-0.32410617,  0.4335001 , -0.90642236],\n",
              "        [-0.80313553,  0.41555471,  0.4136974 ]]))"
            ]
          },
          "metadata": {},
          "execution_count": 30
        }
      ]
    },
    {
      "cell_type": "code",
      "source": [
        "eval,eigvec=np.linalg.eig(arr1)\n",
        "eigvec"
      ],
      "metadata": {
        "colab": {
          "base_uri": "https://localhost:8080/"
        },
        "id": "pjKPLthKElBS",
        "outputId": "f617c7b3-2568-4a46-dc2c-2266a27c0826"
      },
      "execution_count": 35,
      "outputs": [
        {
          "output_type": "execute_result",
          "data": {
            "text/plain": [
              "array([[-0.49992851, -0.79961988,  0.08516438],\n",
              "       [-0.32410617,  0.4335001 , -0.90642236],\n",
              "       [-0.80313553,  0.41555471,  0.4136974 ]])"
            ]
          },
          "metadata": {},
          "execution_count": 35
        }
      ]
    },
    {
      "cell_type": "code",
      "source": [
        "eval"
      ],
      "metadata": {
        "colab": {
          "base_uri": "https://localhost:8080/"
        },
        "id": "PvYOwpS5FOfp",
        "outputId": "87760ef8-5096-404b-8db7-97dcd6da2635"
      },
      "execution_count": 36,
      "outputs": [
        {
          "output_type": "execute_result",
          "data": {
            "text/plain": [
              "array([13.1904204 , -5.2642304 ,  2.07381001])"
            ]
          },
          "metadata": {},
          "execution_count": 36
        }
      ]
    },
    {
      "cell_type": "code",
      "source": [
        "# inner product"
      ],
      "metadata": {
        "id": "Z0AQnHnVFWL5"
      },
      "execution_count": 37,
      "outputs": []
    },
    {
      "cell_type": "code",
      "source": [
        "arr1"
      ],
      "metadata": {
        "colab": {
          "base_uri": "https://localhost:8080/"
        },
        "id": "WSfJ0HIPFgeg",
        "outputId": "334e9bbc-1b51-46c4-9bbc-733e87040f88"
      },
      "execution_count": 38,
      "outputs": [
        {
          "output_type": "execute_result",
          "data": {
            "text/plain": [
              "array([[0, 3, 7],\n",
              "       [5, 3, 1],\n",
              "       [8, 3, 7]])"
            ]
          },
          "metadata": {},
          "execution_count": 38
        }
      ]
    },
    {
      "cell_type": "code",
      "source": [
        "arr2"
      ],
      "metadata": {
        "colab": {
          "base_uri": "https://localhost:8080/"
        },
        "id": "YuUp4Li4FtIs",
        "outputId": "160200ba-8d17-4e0d-8e84-c0f2a66dc55a"
      },
      "execution_count": 39,
      "outputs": [
        {
          "output_type": "execute_result",
          "data": {
            "text/plain": [
              "array([[7, 1, 4],\n",
              "       [9, 9, 9],\n",
              "       [0, 3, 7]])"
            ]
          },
          "metadata": {},
          "execution_count": 39
        }
      ]
    },
    {
      "cell_type": "code",
      "source": [
        "np.inner(arr1,arr2)"
      ],
      "metadata": {
        "colab": {
          "base_uri": "https://localhost:8080/"
        },
        "id": "srG559BjFtx0",
        "outputId": "7a03d310-463e-47aa-b47a-ce30aa6758ad"
      },
      "execution_count": 40,
      "outputs": [
        {
          "output_type": "execute_result",
          "data": {
            "text/plain": [
              "array([[ 31,  90,  58],\n",
              "       [ 42,  81,  16],\n",
              "       [ 87, 162,  58]])"
            ]
          },
          "metadata": {},
          "execution_count": 40
        }
      ]
    },
    {
      "cell_type": "code",
      "source": [
        "# stack"
      ],
      "metadata": {
        "id": "023Q5XDbFwDX"
      },
      "execution_count": 41,
      "outputs": []
    },
    {
      "cell_type": "code",
      "source": [
        "arr3=np.stack((arr1,arr2))\n",
        "arr3"
      ],
      "metadata": {
        "colab": {
          "base_uri": "https://localhost:8080/"
        },
        "id": "fv-0zYHnGUMK",
        "outputId": "350cceb8-c89b-4eaa-d0b8-42aa01e1ca00"
      },
      "execution_count": 44,
      "outputs": [
        {
          "output_type": "execute_result",
          "data": {
            "text/plain": [
              "array([[[0, 3, 7],\n",
              "        [5, 3, 1],\n",
              "        [8, 3, 7]],\n",
              "\n",
              "       [[7, 1, 4],\n",
              "        [9, 9, 9],\n",
              "        [0, 3, 7]]])"
            ]
          },
          "metadata": {},
          "execution_count": 44
        }
      ]
    },
    {
      "cell_type": "code",
      "source": [
        "arr3.shape"
      ],
      "metadata": {
        "colab": {
          "base_uri": "https://localhost:8080/"
        },
        "id": "kcFwAy3aGXvg",
        "outputId": "b4011024-f9c3-4537-bf0f-01f50a92e196"
      },
      "execution_count": 45,
      "outputs": [
        {
          "output_type": "execute_result",
          "data": {
            "text/plain": [
              "(2, 3, 3)"
            ]
          },
          "metadata": {},
          "execution_count": 45
        }
      ]
    },
    {
      "cell_type": "code",
      "source": [
        "#hstack"
      ],
      "metadata": {
        "id": "4bAfuWSFGgBE"
      },
      "execution_count": 46,
      "outputs": []
    },
    {
      "cell_type": "code",
      "source": [
        "arr4=np.hstack((arr1,arr2))\n",
        "arr4"
      ],
      "metadata": {
        "colab": {
          "base_uri": "https://localhost:8080/"
        },
        "id": "SVbTf-orGpcI",
        "outputId": "ee3ab5e4-99bc-40ef-d973-f203a4caa8ad"
      },
      "execution_count": 48,
      "outputs": [
        {
          "output_type": "execute_result",
          "data": {
            "text/plain": [
              "array([[0, 3, 7, 7, 1, 4],\n",
              "       [5, 3, 1, 9, 9, 9],\n",
              "       [8, 3, 7, 0, 3, 7]])"
            ]
          },
          "metadata": {},
          "execution_count": 48
        }
      ]
    },
    {
      "cell_type": "code",
      "source": [
        "arr4.shape"
      ],
      "metadata": {
        "colab": {
          "base_uri": "https://localhost:8080/"
        },
        "id": "OGw4o1WnGtvc",
        "outputId": "5876a19f-0269-4d08-fb84-167983ceb7a7"
      },
      "execution_count": 49,
      "outputs": [
        {
          "output_type": "execute_result",
          "data": {
            "text/plain": [
              "(3, 6)"
            ]
          },
          "metadata": {},
          "execution_count": 49
        }
      ]
    },
    {
      "cell_type": "code",
      "source": [
        "#vstack"
      ],
      "metadata": {
        "id": "tmnwrNIdGzu_"
      },
      "execution_count": 50,
      "outputs": []
    },
    {
      "cell_type": "code",
      "source": [
        "arr5=np.vstack((arr1,arr2))\n",
        "arr5"
      ],
      "metadata": {
        "colab": {
          "base_uri": "https://localhost:8080/"
        },
        "id": "NiTt_D1jHG7V",
        "outputId": "9cfa5c28-01a6-4002-cff9-7ce3748e4773"
      },
      "execution_count": 52,
      "outputs": [
        {
          "output_type": "execute_result",
          "data": {
            "text/plain": [
              "array([[0, 3, 7],\n",
              "       [5, 3, 1],\n",
              "       [8, 3, 7],\n",
              "       [7, 1, 4],\n",
              "       [9, 9, 9],\n",
              "       [0, 3, 7]])"
            ]
          },
          "metadata": {},
          "execution_count": 52
        }
      ]
    },
    {
      "cell_type": "code",
      "source": [
        "arr5.shape"
      ],
      "metadata": {
        "colab": {
          "base_uri": "https://localhost:8080/"
        },
        "id": "69bPmDGwHKTm",
        "outputId": "99132cfb-1085-4d98-d4e5-12024dbadb1b"
      },
      "execution_count": 53,
      "outputs": [
        {
          "output_type": "execute_result",
          "data": {
            "text/plain": [
              "(6, 3)"
            ]
          },
          "metadata": {},
          "execution_count": 53
        }
      ]
    },
    {
      "cell_type": "code",
      "source": [
        "#expand_dimension"
      ],
      "metadata": {
        "id": "WrX69i16HYxo"
      },
      "execution_count": 54,
      "outputs": []
    },
    {
      "cell_type": "code",
      "source": [
        "arr6= np.expand_dims(arr1,axis=0)\n",
        "arr6"
      ],
      "metadata": {
        "colab": {
          "base_uri": "https://localhost:8080/"
        },
        "id": "oBg-FypEH6Mi",
        "outputId": "6c8111ee-592f-4b92-a069-4027ac7ed17a"
      },
      "execution_count": 57,
      "outputs": [
        {
          "output_type": "execute_result",
          "data": {
            "text/plain": [
              "array([[[0, 3, 7],\n",
              "        [5, 3, 1],\n",
              "        [8, 3, 7]]])"
            ]
          },
          "metadata": {},
          "execution_count": 57
        }
      ]
    },
    {
      "cell_type": "code",
      "source": [
        "arr6.shape"
      ],
      "metadata": {
        "colab": {
          "base_uri": "https://localhost:8080/"
        },
        "id": "JaoGA8A5IDE8",
        "outputId": "f2a8633f-6f7f-4f9b-c9a9-f729186f9222"
      },
      "execution_count": 58,
      "outputs": [
        {
          "output_type": "execute_result",
          "data": {
            "text/plain": [
              "(1, 3, 3)"
            ]
          },
          "metadata": {},
          "execution_count": 58
        }
      ]
    },
    {
      "cell_type": "code",
      "source": [
        "arr7=np.expand_dims(arr1,axis=1)\n",
        "arr7"
      ],
      "metadata": {
        "colab": {
          "base_uri": "https://localhost:8080/"
        },
        "id": "l1rHURpCILrq",
        "outputId": "d6abce26-381e-49a0-9cd4-ac7ba88766f2"
      },
      "execution_count": 59,
      "outputs": [
        {
          "output_type": "execute_result",
          "data": {
            "text/plain": [
              "array([[[0, 3, 7]],\n",
              "\n",
              "       [[5, 3, 1]],\n",
              "\n",
              "       [[8, 3, 7]]])"
            ]
          },
          "metadata": {},
          "execution_count": 59
        }
      ]
    },
    {
      "cell_type": "code",
      "source": [
        "arr7.shape"
      ],
      "metadata": {
        "colab": {
          "base_uri": "https://localhost:8080/"
        },
        "id": "xOhoM3KhITOx",
        "outputId": "e20211c9-f86c-46e7-d12c-bbef8cc7c6ca"
      },
      "execution_count": 60,
      "outputs": [
        {
          "output_type": "execute_result",
          "data": {
            "text/plain": [
              "(3, 1, 3)"
            ]
          },
          "metadata": {},
          "execution_count": 60
        }
      ]
    },
    {
      "cell_type": "code",
      "source": [
        "# squeeze"
      ],
      "metadata": {
        "id": "mRWT8b5HIUVR"
      },
      "execution_count": 62,
      "outputs": []
    },
    {
      "cell_type": "code",
      "source": [
        "arr8=np.squeeze(arr6,axis=0)\n",
        "arr8"
      ],
      "metadata": {
        "colab": {
          "base_uri": "https://localhost:8080/"
        },
        "id": "IW7KMe_CIhh8",
        "outputId": "bc6f18d8-2018-44dc-fc2f-ed5e19590fa3"
      },
      "execution_count": 63,
      "outputs": [
        {
          "output_type": "execute_result",
          "data": {
            "text/plain": [
              "array([[0, 3, 7],\n",
              "       [5, 3, 1],\n",
              "       [8, 3, 7]])"
            ]
          },
          "metadata": {},
          "execution_count": 63
        }
      ]
    },
    {
      "cell_type": "code",
      "source": [
        "arr8.shape"
      ],
      "metadata": {
        "colab": {
          "base_uri": "https://localhost:8080/"
        },
        "id": "QAC2jKzwIp4J",
        "outputId": "d381ef41-728c-4e54-f41b-5d68c025da84"
      },
      "execution_count": 64,
      "outputs": [
        {
          "output_type": "execute_result",
          "data": {
            "text/plain": [
              "(3, 3)"
            ]
          },
          "metadata": {},
          "execution_count": 64
        }
      ]
    },
    {
      "cell_type": "code",
      "source": [
        "arr9=np.squeeze(arr7,axis=1)\n",
        "arr9"
      ],
      "metadata": {
        "colab": {
          "base_uri": "https://localhost:8080/"
        },
        "id": "crYOuaLlIq5C",
        "outputId": "6d115f5c-7b17-4982-f9ca-87936d61c8aa"
      },
      "execution_count": 65,
      "outputs": [
        {
          "output_type": "execute_result",
          "data": {
            "text/plain": [
              "array([[0, 3, 7],\n",
              "       [5, 3, 1],\n",
              "       [8, 3, 7]])"
            ]
          },
          "metadata": {},
          "execution_count": 65
        }
      ]
    },
    {
      "cell_type": "code",
      "source": [
        "arr9.shape"
      ],
      "metadata": {
        "colab": {
          "base_uri": "https://localhost:8080/"
        },
        "id": "Ju4Vj3-_IyXF",
        "outputId": "8b0a4f39-f17d-4815-a2d8-1b0ef1d0c530"
      },
      "execution_count": 66,
      "outputs": [
        {
          "output_type": "execute_result",
          "data": {
            "text/plain": [
              "(3, 3)"
            ]
          },
          "metadata": {},
          "execution_count": 66
        }
      ]
    },
    {
      "cell_type": "code",
      "source": [
        ""
      ],
      "metadata": {
        "id": "6KUt4L4nIzac"
      },
      "execution_count": null,
      "outputs": []
    }
  ],
  "metadata": {
    "colab": {
      "name": "Untitled0.ipynb",
      "provenance": [],
      "authorship_tag": "ABX9TyOEJ3y58KvTmGCzwa/rFu/x",
      "include_colab_link": true
    },
    "kernelspec": {
      "display_name": "Python 3",
      "name": "python3"
    },
    "language_info": {
      "name": "python"
    }
  },
  "nbformat": 4,
  "nbformat_minor": 0
}